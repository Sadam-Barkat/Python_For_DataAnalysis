{
 "cells": [
  {
   "cell_type": "markdown",
   "id": "7069c126-1e7d-4ba2-b019-010e9f2f7978",
   "metadata": {},
   "source": [
    "-------------------------------------------------------------Variables----------------------------------------------------------"
   ]
  },
  {
   "cell_type": "code",
   "execution_count": 9,
   "id": "674de8ce-944d-4ad4-845a-6a3f44baebe0",
   "metadata": {},
   "outputs": [
    {
     "data": {
      "text/plain": [
       "str"
      ]
     },
     "execution_count": 9,
     "metadata": {},
     "output_type": "execute_result"
    }
   ],
   "source": [
    "can=\"soda\"\n",
    "type(can)"
   ]
  },
  {
   "cell_type": "code",
   "execution_count": 8,
   "id": "de214d9d-83c6-43c1-9524-26ade0f393ab",
   "metadata": {},
   "outputs": [
    {
     "data": {
      "text/plain": [
       "int"
      ]
     },
     "execution_count": 8,
     "metadata": {},
     "output_type": "execute_result"
    }
   ],
   "source": [
    "can\n",
    "type(can)"
   ]
  },
  {
   "cell_type": "code",
   "execution_count": 4,
   "id": "92b48476-e70b-4e16-8f53-5ccfe1b1b7e5",
   "metadata": {},
   "outputs": [],
   "source": [
    "can=123"
   ]
  },
  {
   "cell_type": "code",
   "execution_count": 5,
   "id": "f4fbca5a-6288-411d-9e63-764fd10fd715",
   "metadata": {},
   "outputs": [
    {
     "data": {
      "text/plain": [
       "123"
      ]
     },
     "execution_count": 5,
     "metadata": {},
     "output_type": "execute_result"
    }
   ],
   "source": [
    "can"
   ]
  },
  {
   "cell_type": "code",
   "execution_count": 7,
   "id": "582b77bb-1ca3-455b-8d7d-fd1074bb3e18",
   "metadata": {},
   "outputs": [
    {
     "data": {
      "text/plain": [
       "int"
      ]
     },
     "execution_count": 7,
     "metadata": {},
     "output_type": "execute_result"
    }
   ],
   "source": [
    "type(can)"
   ]
  },
  {
   "cell_type": "code",
   "execution_count": 10,
   "id": "580149ff-ecb6-400f-be43-97115593c4de",
   "metadata": {},
   "outputs": [],
   "source": [
    "pizza=1000"
   ]
  },
  {
   "cell_type": "code",
   "execution_count": 11,
   "id": "2d6114c4-94ee-4fbb-8f39-c8c8f3a85944",
   "metadata": {},
   "outputs": [
    {
     "data": {
      "text/plain": [
       "1000"
      ]
     },
     "execution_count": 11,
     "metadata": {},
     "output_type": "execute_result"
    }
   ],
   "source": [
    "pizza"
   ]
  },
  {
   "cell_type": "code",
   "execution_count": 12,
   "id": "312663e6-b4e9-452c-b030-16f55db198b2",
   "metadata": {},
   "outputs": [
    {
     "data": {
      "text/plain": [
       "int"
      ]
     },
     "execution_count": 12,
     "metadata": {},
     "output_type": "execute_result"
    }
   ],
   "source": [
    "type(pizza)"
   ]
  },
  {
   "cell_type": "code",
   "execution_count": 13,
   "id": "004aef4e-4884-4366-8a69-ab86e12a6379",
   "metadata": {},
   "outputs": [],
   "source": [
    "samosa=12.4"
   ]
  },
  {
   "cell_type": "code",
   "execution_count": 14,
   "id": "dbb7e595-396a-4d1e-b246-9381afb34ba6",
   "metadata": {},
   "outputs": [
    {
     "data": {
      "text/plain": [
       "float"
      ]
     },
     "execution_count": 14,
     "metadata": {},
     "output_type": "execute_result"
    }
   ],
   "source": [
    "type(samosa)"
   ]
  },
  {
   "cell_type": "code",
   "execution_count": 15,
   "id": "19ab0505-de75-4699-b368-83601b4388b3",
   "metadata": {},
   "outputs": [],
   "source": [
    "ice_cream=200"
   ]
  },
  {
   "cell_type": "code",
   "execution_count": 16,
   "id": "0e2c1f7e-3605-4370-9677-fd274af13d5b",
   "metadata": {},
   "outputs": [
    {
     "data": {
      "text/plain": [
       "1212.4"
      ]
     },
     "execution_count": 16,
     "metadata": {},
     "output_type": "execute_result"
    }
   ],
   "source": [
    "total=pizza+samosa+ice_cream\n",
    "total"
   ]
  },
  {
   "cell_type": "code",
   "execution_count": 17,
   "id": "0c8d9c7a-1e4a-4180-81c0-0f11fc04508e",
   "metadata": {},
   "outputs": [
    {
     "data": {
      "text/plain": [
       "float"
      ]
     },
     "execution_count": 17,
     "metadata": {},
     "output_type": "execute_result"
    }
   ],
   "source": [
    "type(total)"
   ]
  },
  {
   "cell_type": "markdown",
   "id": "6ca5ea7a-bf9c-457f-9ea9-4c7c7c0defba",
   "metadata": {},
   "source": [
    "----------------------------------------------------------------Task_1-----------------------------------------------------------"
   ]
  },
  {
   "cell_type": "code",
   "execution_count": 18,
   "id": "9bb88e0a-1363-4d75-aecb-3a35701ba292",
   "metadata": {},
   "outputs": [],
   "source": [
    "pi=22/7"
   ]
  },
  {
   "cell_type": "code",
   "execution_count": 19,
   "id": "5e105aef-4063-4934-ac97-d7470c081802",
   "metadata": {},
   "outputs": [
    {
     "data": {
      "text/plain": [
       "float"
      ]
     },
     "execution_count": 19,
     "metadata": {},
     "output_type": "execute_result"
    }
   ],
   "source": [
    "type(pi)"
   ]
  },
  {
   "cell_type": "markdown",
   "id": "ee55bb0f-0e6d-4367-8f72-a74c95e86783",
   "metadata": {},
   "source": [
    "-----------------------------------------------------------------Task_2-------------------------------------------------------------------"
   ]
  },
  {
   "cell_type": "code",
   "execution_count": 20,
   "id": "ee9b62da-53d4-4ed4-85b4-d158af03971a",
   "metadata": {},
   "outputs": [
    {
     "ename": "SyntaxError",
     "evalue": "invalid syntax (3639871942.py, line 1)",
     "output_type": "error",
     "traceback": [
      "\u001b[1;36m  Cell \u001b[1;32mIn[20], line 1\u001b[1;36m\u001b[0m\n\u001b[1;33m    for=4\u001b[0m\n\u001b[1;37m       ^\u001b[0m\n\u001b[1;31mSyntaxError\u001b[0m\u001b[1;31m:\u001b[0m invalid syntax\n"
     ]
    }
   ],
   "source": [
    "for=4"
   ]
  },
  {
   "cell_type": "markdown",
   "id": "16d32270-561f-4a91-a7ef-e58c7094f20d",
   "metadata": {},
   "source": [
    "-------------------------------------------------------------------Task_3--------------------------------------------------------"
   ]
  },
  {
   "cell_type": "markdown",
   "id": "c16958e0-aa73-4fa4-b2cc-7a8a3d83b012",
   "metadata": {},
   "source": [
    "Calculate The Simple Intrest"
   ]
  },
  {
   "cell_type": "markdown",
   "id": "d84b4f4a-e61d-44f3-bcd2-9c7a8f6c87cd",
   "metadata": {},
   "source": [
    "Formula is P*R*T/100"
   ]
  },
  {
   "cell_type": "code",
   "execution_count": 23,
   "id": "00e7f99e-2029-4752-b2c7-dfa88ab6a6ab",
   "metadata": {},
   "outputs": [],
   "source": [
    "P=10\n",
    "R=.5\n",
    "T=2\n",
    "simple_intrest = P*R*T/100"
   ]
  },
  {
   "cell_type": "code",
   "execution_count": 24,
   "id": "a65e12a4-949e-410c-9923-c7145fb6c6d2",
   "metadata": {},
   "outputs": [
    {
     "data": {
      "text/plain": [
       "0.1"
      ]
     },
     "execution_count": 24,
     "metadata": {},
     "output_type": "execute_result"
    }
   ],
   "source": [
    "simple_intrest"
   ]
  },
  {
   "cell_type": "code",
   "execution_count": null,
   "id": "b53abbc8-3775-4e59-ad0f-eca962f4ec37",
   "metadata": {},
   "outputs": [],
   "source": []
  }
 ],
 "metadata": {
  "kernelspec": {
   "display_name": "Python 3 (ipykernel)",
   "language": "python",
   "name": "python3"
  },
  "language_info": {
   "codemirror_mode": {
    "name": "ipython",
    "version": 3
   },
   "file_extension": ".py",
   "mimetype": "text/x-python",
   "name": "python",
   "nbconvert_exporter": "python",
   "pygments_lexer": "ipython3",
   "version": "3.8.10"
  }
 },
 "nbformat": 4,
 "nbformat_minor": 5
}
