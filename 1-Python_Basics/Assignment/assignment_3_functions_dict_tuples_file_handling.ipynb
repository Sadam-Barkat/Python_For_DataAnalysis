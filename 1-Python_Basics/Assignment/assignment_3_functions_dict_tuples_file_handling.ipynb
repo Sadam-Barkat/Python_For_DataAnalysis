{
 "cells": [
  {
   "cell_type": "markdown",
   "metadata": {},
   "source": [
    "<h2 align=\"center\" style=\"color:blue\">Codebasics Python Course: Exercise - Functions, Dict, Tuples, File Handling</h2>"
   ]
  },
  {
   "cell_type": "markdown",
   "metadata": {},
   "source": [
    "Imagine you run a loyalty program where customers earn rewards based on the total amount they have spent. The rewards levels are defined based on the total purchase amount. Based on this scenario, complete the following tasks"
   ]
  },
  {
   "cell_type": "markdown",
   "metadata": {},
   "source": [
    "### Task 1\n",
    "\n",
    "You are given a file called ```customers.txt``` that contains the name of the customer and total amount they spent. Read this file line by line and save the customer name and total amount in a dictionary.\n",
    "\n",
    "For example, customers.txt file will content the data in the following format,\n",
    "```\n",
    "Srinivas,120\n",
    "John,250\n",
    "Maria,150\n",
    "Smith,510\n",
    "Anjali,45\n",
    "```\n",
    "\n",
    "You will read this and build a dictionary like this,\n",
    "```\n",
    "{\n",
    "    \"Srinivas\": 120,\n",
    "    \"John\": 250,\n",
    "    \"Maria\": 150,\n",
    "    \"Smith\": 510,\n",
    "    \"Anjali\": 45\n",
    "}\n",
    "```"
   ]
  },
  {
   "cell_type": "code",
   "execution_count": 44,
   "metadata": {},
   "outputs": [],
   "source": [
    "data = [\"Srinivas,120\",\"John,250\",\"Maria,150\",\"Smith,510\",\"Anjali,45\"]\n",
    "with open(\"customer.txt\",\"w\") as file:\n",
    "    for i in data:\n",
    "        file.write(i +\"\\n\")"
   ]
  },
  {
   "cell_type": "code",
   "execution_count": 45,
   "metadata": {},
   "outputs": [],
   "source": [
    "# write your code here\n",
    "dictionery = {}\n",
    "\n",
    "with open(\"customer.txt\",\"r\") as file:\n",
    "    for line in file:\n",
    "        key, value = line.strip().split(',')\n",
    "        dictionery[key] = int(value)"
   ]
  },
  {
   "cell_type": "code",
   "execution_count": 46,
   "metadata": {},
   "outputs": [
    {
     "name": "stdout",
     "output_type": "stream",
     "text": [
      "dict_items([('Srinivas', 120), ('John', 250), ('Maria', 150), ('Smith', 510), ('Anjali', 45)])\n"
     ]
    }
   ],
   "source": [
    "print(dictionery.items())"
   ]
  },
  {
   "cell_type": "markdown",
   "metadata": {},
   "source": [
    "### Task 2\n",
    "\n",
    "The rewards levels are defined below based on the total purchase amount. Using this define a function called calculate_rewards that takes total as input and returns the reward.\n",
    "\n",
    "```\n",
    "1. Bronze: Total purchases $100-$199\n",
    "1. Silver: Total purchases $200-$499\n",
    "1. Gold: Total purchases $500+\n",
    "```"
   ]
  },
  {
   "cell_type": "code",
   "execution_count": 47,
   "metadata": {},
   "outputs": [
    {
     "name": "stdout",
     "output_type": "stream",
     "text": [
      "Gold\n"
     ]
    }
   ],
   "source": [
    "# write your code here\n",
    "def calculate_rewards(total):\n",
    "    if total > 500:\n",
    "        return \"Gold\"\n",
    "    elif total >= 100 or total <= 199:\n",
    "        return Bronze\n",
    "    elif total >= 200 or total <= 499:\n",
    "        return Silver\n",
    "\n",
    "print(calculate_rewards(530))"
   ]
  },
  {
   "cell_type": "markdown",
   "metadata": {},
   "source": [
    "### Task 3\n",
    "\n",
    "Now for each of the customers in our customers_dict, calculate the rewards and build a customers_summary dictionary that looks like the following, (key is the name of the customer and the value is a tuple containing total amount and rewards level)\n",
    "\n",
    "```\n",
    "{\n",
    "    'Srinivas': (120, 'Bronze'),\n",
    "    'John': (250, 'Silver'),\n",
    "    'Maria': (150, 'Bronze'),\n",
    "    'Smith': (510, 'Gold'),\n",
    "    'Anjali': (45, 'None')\n",
    "}\n",
    "```"
   ]
  },
  {
   "cell_type": "code",
   "execution_count": 48,
   "metadata": {},
   "outputs": [
    {
     "ename": "NameError",
     "evalue": "name 'Bronze' is not defined",
     "output_type": "error",
     "traceback": [
      "\u001b[1;31m---------------------------------------------------------------------------\u001b[0m",
      "\u001b[1;31mNameError\u001b[0m                                 Traceback (most recent call last)",
      "Cell \u001b[1;32mIn[48], line 3\u001b[0m\n\u001b[0;32m      1\u001b[0m customer_summary \u001b[38;5;241m=\u001b[39m {}\n\u001b[0;32m      2\u001b[0m \u001b[38;5;28;01mfor\u001b[39;00m name, total \u001b[38;5;129;01min\u001b[39;00m customers_dict\u001b[38;5;241m.\u001b[39mitems():\n\u001b[1;32m----> 3\u001b[0m     rewards_level \u001b[38;5;241m=\u001b[39m \u001b[43mcalculate_rewards\u001b[49m\u001b[43m(\u001b[49m\u001b[43mtotal\u001b[49m\u001b[43m)\u001b[49m\n\u001b[0;32m      4\u001b[0m     customer_summary[name] \u001b[38;5;241m=\u001b[39m (total, rewards_level)\n\u001b[0;32m      6\u001b[0m customer_summary\n",
      "Cell \u001b[1;32mIn[47], line 6\u001b[0m, in \u001b[0;36mcalculate_rewards\u001b[1;34m(total)\u001b[0m\n\u001b[0;32m      4\u001b[0m     \u001b[38;5;28;01mreturn\u001b[39;00m \u001b[38;5;124m\"\u001b[39m\u001b[38;5;124mGold\u001b[39m\u001b[38;5;124m\"\u001b[39m\n\u001b[0;32m      5\u001b[0m \u001b[38;5;28;01melif\u001b[39;00m total \u001b[38;5;241m>\u001b[39m\u001b[38;5;241m=\u001b[39m \u001b[38;5;241m100\u001b[39m \u001b[38;5;129;01mor\u001b[39;00m total \u001b[38;5;241m<\u001b[39m\u001b[38;5;241m=\u001b[39m \u001b[38;5;241m199\u001b[39m:\n\u001b[1;32m----> 6\u001b[0m     \u001b[38;5;28;01mreturn\u001b[39;00m \u001b[43mBronze\u001b[49m\n\u001b[0;32m      7\u001b[0m \u001b[38;5;28;01melif\u001b[39;00m total \u001b[38;5;241m>\u001b[39m\u001b[38;5;241m=\u001b[39m \u001b[38;5;241m200\u001b[39m \u001b[38;5;129;01mor\u001b[39;00m total \u001b[38;5;241m<\u001b[39m\u001b[38;5;241m=\u001b[39m \u001b[38;5;241m499\u001b[39m:\n\u001b[0;32m      8\u001b[0m     \u001b[38;5;28;01mreturn\u001b[39;00m Silver\n",
      "\u001b[1;31mNameError\u001b[0m: name 'Bronze' is not defined"
     ]
    }
   ],
   "source": [
    "customer_summary = {}\n",
    "for name, total in customers_dict.items():\n",
    "    rewards_level = calculate_rewards(total)\n",
    "    customer_summary[name] = (total, rewards_level)\n",
    "\n",
    "customer_summary"
   ]
  },
  {
   "cell_type": "markdown",
   "metadata": {},
   "source": [
    "### Task 4\n",
    "\n",
    "Now stitch all of the above code together and create a function that takes file name as input and returns the customer_summary dictionary.\n",
    "\n",
    "```\n",
    "def process_customer_data(file_name):\n",
    "    # return customer_summary dict\n",
    "```"
   ]
  },
  {
   "cell_type": "code",
   "execution_count": 4,
   "metadata": {},
   "outputs": [],
   "source": [
    "# write your code here\n"
   ]
  }
 ],
 "metadata": {
  "colab": {
   "collapsed_sections": [],
   "name": "1_Variables.ipynb",
   "provenance": []
  },
  "kernelspec": {
   "display_name": "Python 3 (ipykernel)",
   "language": "python",
   "name": "python3"
  },
  "language_info": {
   "codemirror_mode": {
    "name": "ipython",
    "version": 3
   },
   "file_extension": ".py",
   "mimetype": "text/x-python",
   "name": "python",
   "nbconvert_exporter": "python",
   "pygments_lexer": "ipython3",
   "version": "3.8.10"
  }
 },
 "nbformat": 4,
 "nbformat_minor": 4
}
