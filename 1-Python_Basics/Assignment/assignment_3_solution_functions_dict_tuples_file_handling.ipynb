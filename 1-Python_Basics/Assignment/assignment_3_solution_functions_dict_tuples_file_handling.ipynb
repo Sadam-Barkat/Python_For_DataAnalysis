{
 "cells": [
  {
   "cell_type": "markdown",
   "metadata": {},
   "source": [
    "<h2 align=\"center\" style=\"color:blue\">Codebasics Python Course: Exercise - Functions, Dict, Tuples, File Handling</h2>"
   ]
  },
  {
   "cell_type": "markdown",
   "metadata": {},
   "source": [
    "Imagine you run a loyalty program where customers earn rewards based on the total amount they have spent. The rewards levels are defined based on the total purchase amount. Based on this scenario, complete the following tasks"
   ]
  },
  {
   "cell_type": "markdown",
   "metadata": {},
   "source": [
    "### Task 1\n",
    "\n",
    "You are given a file called ```customers.txt``` that contains the name of the customer and total amount they spent. Read this file line by line and save the customer name and total amount in a dictionary.\n",
    "\n",
    "For example, customers.txt file will content the data in the following format,\n",
    "```\n",
    "Srinivas,120\n",
    "John,250\n",
    "Maria,150\n",
    "Smith,510\n",
    "Anjali,45\n",
    "```\n",
    "\n",
    "You will read this and build a dictionary like this,\n",
    "```\n",
    "{\n",
    "    \"Srinivas\": 120,\n",
    "    \"John\": 250,\n",
    "    \"Maria\": 150,\n",
    "    \"Smith\": 510,\n",
    "    \"Anjali\": 45\n",
    "}\n",
    "```"
   ]
  },
  {
   "cell_type": "code",
   "execution_count": 3,
   "metadata": {},
   "outputs": [
    {
     "ename": "FileNotFoundError",
     "evalue": "[Errno 2] No such file or directory: 'customers.txt'",
     "output_type": "error",
     "traceback": [
      "\u001b[1;31m---------------------------------------------------------------------------\u001b[0m",
      "\u001b[1;31mFileNotFoundError\u001b[0m                         Traceback (most recent call last)",
      "Cell \u001b[1;32mIn[3], line 3\u001b[0m\n\u001b[0;32m      1\u001b[0m customers_dict \u001b[38;5;241m=\u001b[39m {}\n\u001b[1;32m----> 3\u001b[0m \u001b[38;5;28;01mwith\u001b[39;00m \u001b[38;5;28;43mopen\u001b[39;49m\u001b[43m(\u001b[49m\u001b[38;5;124;43m\"\u001b[39;49m\u001b[38;5;124;43mcustomers.txt\u001b[39;49m\u001b[38;5;124;43m\"\u001b[39;49m\u001b[43m,\u001b[49m\u001b[43m \u001b[49m\u001b[38;5;124;43m\"\u001b[39;49m\u001b[38;5;124;43mr\u001b[39;49m\u001b[38;5;124;43m\"\u001b[39;49m\u001b[43m)\u001b[49m \u001b[38;5;28;01mas\u001b[39;00m f:\n\u001b[0;32m      4\u001b[0m     \u001b[38;5;28;01mfor\u001b[39;00m line \u001b[38;5;129;01min\u001b[39;00m f:\n\u001b[0;32m      5\u001b[0m         customer_name, total_amount \u001b[38;5;241m=\u001b[39m line\u001b[38;5;241m.\u001b[39mstrip()\u001b[38;5;241m.\u001b[39msplit(\u001b[38;5;124m\"\u001b[39m\u001b[38;5;124m,\u001b[39m\u001b[38;5;124m\"\u001b[39m)\n",
      "File \u001b[1;32m~\\AppData\\Local\\Programs\\Python\\Python38\\lib\\site-packages\\IPython\\core\\interactiveshell.py:284\u001b[0m, in \u001b[0;36m_modified_open\u001b[1;34m(file, *args, **kwargs)\u001b[0m\n\u001b[0;32m    277\u001b[0m \u001b[38;5;28;01mif\u001b[39;00m file \u001b[38;5;129;01min\u001b[39;00m {\u001b[38;5;241m0\u001b[39m, \u001b[38;5;241m1\u001b[39m, \u001b[38;5;241m2\u001b[39m}:\n\u001b[0;32m    278\u001b[0m     \u001b[38;5;28;01mraise\u001b[39;00m \u001b[38;5;167;01mValueError\u001b[39;00m(\n\u001b[0;32m    279\u001b[0m         \u001b[38;5;124mf\u001b[39m\u001b[38;5;124m\"\u001b[39m\u001b[38;5;124mIPython won\u001b[39m\u001b[38;5;124m'\u001b[39m\u001b[38;5;124mt let you open fd=\u001b[39m\u001b[38;5;132;01m{\u001b[39;00mfile\u001b[38;5;132;01m}\u001b[39;00m\u001b[38;5;124m by default \u001b[39m\u001b[38;5;124m\"\u001b[39m\n\u001b[0;32m    280\u001b[0m         \u001b[38;5;124m\"\u001b[39m\u001b[38;5;124mas it is likely to crash IPython. If you know what you are doing, \u001b[39m\u001b[38;5;124m\"\u001b[39m\n\u001b[0;32m    281\u001b[0m         \u001b[38;5;124m\"\u001b[39m\u001b[38;5;124myou can use builtins\u001b[39m\u001b[38;5;124m'\u001b[39m\u001b[38;5;124m open.\u001b[39m\u001b[38;5;124m\"\u001b[39m\n\u001b[0;32m    282\u001b[0m     )\n\u001b[1;32m--> 284\u001b[0m \u001b[38;5;28;01mreturn\u001b[39;00m \u001b[43mio_open\u001b[49m\u001b[43m(\u001b[49m\u001b[43mfile\u001b[49m\u001b[43m,\u001b[49m\u001b[43m \u001b[49m\u001b[38;5;241;43m*\u001b[39;49m\u001b[43margs\u001b[49m\u001b[43m,\u001b[49m\u001b[43m \u001b[49m\u001b[38;5;241;43m*\u001b[39;49m\u001b[38;5;241;43m*\u001b[39;49m\u001b[43mkwargs\u001b[49m\u001b[43m)\u001b[49m\n",
      "\u001b[1;31mFileNotFoundError\u001b[0m: [Errno 2] No such file or directory: 'customers.txt'"
     ]
    }
   ],
   "source": [
    "customers_dict = {}\n",
    "\n",
    "with open(\"customers.txt\", \"r\") as f:\n",
    "    for line in f:\n",
    "        customer_name, total_amount = line.strip().split(\",\")\n",
    "        total_amount = int(total_amount)\n",
    "        customers_dict[customer_name] = total_amount\n",
    "customers_dict"
   ]
  },
  {
   "cell_type": "markdown",
   "metadata": {},
   "source": [
    "### Task 2\n",
    "\n",
    "The rewards levels are defined below based on the total purchase amount. Using this define a function called calculate_rewards that takes total as input and returns the reward.\n",
    "\n",
    "```\n",
    "1. Bronze: Total purchases $100-$199\n",
    "1. Silver: Total purchases $200-$499\n",
    "1. Gold: Total purchases $500+\n",
    "```"
   ]
  },
  {
   "cell_type": "code",
   "execution_count": 4,
   "metadata": {},
   "outputs": [
    {
     "data": {
      "text/plain": [
       "'Gold'"
      ]
     },
     "execution_count": 4,
     "metadata": {},
     "output_type": "execute_result"
    }
   ],
   "source": [
    "def calculate_rewards(total):\n",
    "    if total >= 500:\n",
    "        return 'Gold'\n",
    "    elif total >= 200:\n",
    "        return 'Silver'\n",
    "    elif total >= 100:\n",
    "        return 'Bronze'\n",
    "    else:\n",
    "        return 'None'\n",
    "    \n",
    "calculate_rewards(530)"
   ]
  },
  {
   "cell_type": "markdown",
   "metadata": {},
   "source": [
    "### Task 3\n",
    "\n",
    "Now for each of the customers in our customers_dict, calculate the rewards and build a customers_summary dictionary that looks like the following, (key is the name of the customer and the value is a tuple containing total amount and rewards level)\n",
    "\n",
    "```\n",
    "{\n",
    "    'Srinivas': (120, 'Bronze'),\n",
    "    'John': (250, 'Silver'),\n",
    "    'Maria': (150, 'Bronze'),\n",
    "    'Smith': (510, 'Gold'),\n",
    "    'Anjali': (45, 'None')\n",
    "}\n",
    "```"
   ]
  },
  {
   "cell_type": "code",
   "execution_count": 7,
   "metadata": {},
   "outputs": [
    {
     "data": {
      "text/plain": [
       "{'Srinivas': (120, 'Bronze'),\n",
       " 'John': (250, 'Silver'),\n",
       " 'Maria': (150, 'Bronze'),\n",
       " 'Smith': (510, 'Gold'),\n",
       " 'Anjali': (45, 'None')}"
      ]
     },
     "execution_count": 7,
     "metadata": {},
     "output_type": "execute_result"
    }
   ],
   "source": [
    "customer_summary = {}\n",
    "for name, total in customers_dict.items():\n",
    "    rewards_level = calculate_rewards(total)\n",
    "    customer_summary[name] = (total, rewards_level)\n",
    "\n",
    "customer_summary"
   ]
  },
  {
   "cell_type": "markdown",
   "metadata": {},
   "source": [
    "### Task 4\n",
    "\n",
    "Now stitch all of the above code together and create a function that takes file name as input and returns the customer_summary dictionary.\n",
    "\n",
    "```\n",
    "def process_customer_data(file_name):\n",
    "    # return customer_summary dict\n",
    "```"
   ]
  },
  {
   "cell_type": "code",
   "execution_count": 11,
   "metadata": {},
   "outputs": [
    {
     "data": {
      "text/plain": [
       "{'Srinivas': (120, 'Bronze'),\n",
       " 'John': (250, 'Silver'),\n",
       " 'Maria': (150, 'Bronze'),\n",
       " 'Smith': (510, 'Gold'),\n",
       " 'Anjali': (45, 'None')}"
      ]
     },
     "execution_count": 11,
     "metadata": {},
     "output_type": "execute_result"
    }
   ],
   "source": [
    "# Function to process customer data from file\n",
    "def process_customer_data(filename):\n",
    "    rewards_data = {}\n",
    "    with open(filename, \"r\") as f:\n",
    "        for line in f:\n",
    "            customer_name, total_amount = line.strip().split(\",\")\n",
    "            total_amount = int(total_amount)\n",
    "            customers_dict[customer_name] = total_amount\n",
    "    \n",
    "    # Categorize customers and prepare the summary\n",
    "    customer_summary = {}\n",
    "    for name, total in customers_dict.items():\n",
    "        rewards_level = calculate_rewards(total)\n",
    "        customer_summary[name] = (total, rewards_level)\n",
    "\n",
    "    return customer_summary\n",
    "\n",
    "process_customer_data(\"customers.txt\")"
   ]
  }
 ],
 "metadata": {
  "colab": {
   "collapsed_sections": [],
   "name": "1_Variables.ipynb",
   "provenance": []
  },
  "kernelspec": {
   "display_name": "Python 3 (ipykernel)",
   "language": "python",
   "name": "python3"
  },
  "language_info": {
   "codemirror_mode": {
    "name": "ipython",
    "version": 3
   },
   "file_extension": ".py",
   "mimetype": "text/x-python",
   "name": "python",
   "nbconvert_exporter": "python",
   "pygments_lexer": "ipython3",
   "version": "3.8.10"
  }
 },
 "nbformat": 4,
 "nbformat_minor": 4
}
